{
  "cells": [
    {
      "cell_type": "markdown",
      "metadata": {
        "id": "POQBeXf2Xoxo"
      },
      "source": [
        "#**ESMFold**\n",
        "for more details see: [Github](https://github.com/facebookresearch/esm/tree/main/esm), [Preprint](https://www.biorxiv.org/content/10.1101/2022.07.20.500902v1)\n",
        "\n",
        "#### **Tips and Instructions**\n",
        "- click the little ▶ play icon to the left of each cell below.\n",
        "- use \"/\" to specify chainbreaks, (eg. sequence=\"AAA/AAA\")\n",
        "- for homo-oligomeric predictions, set copies > 1\n",
        "- See [experimental notebook](https://colab.research.google.com/github/sokrypton/ColabFold/blob/main/beta/ESMFold_advanced.ipynb) for more advanced options (like sampling).\n",
        "\n",
        "#### **Colab Limitations**\n",
        "- For short monomeric proteins under the length 400, consider using [ESMFold API](https://esmatlas.com/resources?action=fold) (no need for GPU, super fast!)\n",
        "- On Tesla T4 (typical free colab GPU), max total length ~ 900"
      ]
    },
    {
      "cell_type": "code",
      "execution_count": 1,
      "metadata": {
        "colab": {
          "base_uri": "https://localhost:8080/"
        },
        "id": "catNptjYwNM6",
        "outputId": "d0198b54-92d7-4ac3-d8ca-cbaf14bcfe36"
      },
      "outputs": [
        {
          "output_type": "stream",
          "name": "stdout",
          "text": [
            "installing libs...\n",
            "installing openfold...\n",
            "installing esmfold...\n",
            "CPU times: user 759 ms, sys: 119 ms, total: 878 ms\n",
            "Wall time: 3min 28s\n"
          ]
        }
      ],
      "source": [
        "%%time\n",
        "#@title install\n",
        "#@markdown install ESMFold, OpenFold and download Params (~2min 30s)\n",
        "\n",
        "import os, time\n",
        "if not os.path.isfile(\"esmfold.model\"):\n",
        "  # download esmfold params\n",
        "  os.system(\"apt-get install aria2 -qq\")\n",
        "  os.system(\"aria2c -q -x 16 https://colabfold.steineggerlab.workers.dev/esm/esmfold.model &\")\n",
        "\n",
        "  # install libs\n",
        "  print(\"installing libs...\")\n",
        "  os.system(\"pip install -q omegaconf pytorch_lightning biopython ml_collections einops py3Dmol modelcif\")\n",
        "  os.system(\"pip install -q git+https://github.com/NVIDIA/dllogger.git\")\n",
        "\n",
        "  print(\"installing openfold...\")\n",
        "  # install openfold\n",
        "  os.system(f\"pip install -q git+https://github.com/sokrypton/openfold.git\")\n",
        "\n",
        "  print(\"installing esmfold...\")\n",
        "  # install esmfold\n",
        "  os.system(f\"pip install -q git+https://github.com/sokrypton/esm.git@beta\")\n",
        "\n",
        "  # wait for Params to finish downloading...\n",
        "  if not os.path.isfile(\"esmfold.model\"):\n",
        "    # backup source!\n",
        "    os.system(\"aria2c -q -x 16 https://files.ipd.uw.edu/pub/esmfold/esmfold.model\")\n",
        "  else:\n",
        "    while os.path.isfile(\"esmfold.model.aria2\"):\n",
        "      time.sleep(5)"
      ]
    },
    {
      "cell_type": "markdown",
      "source": [],
      "metadata": {
        "id": "5S3S7sGxRdkC"
      }
    },
    {
      "cell_type": "code",
      "execution_count": 4,
      "metadata": {
        "colab": {
          "base_uri": "https://localhost:8080/"
        },
        "id": "CcyNpAvhTX6q",
        "outputId": "627d6fd4-334d-491d-fc9d-10f4b3c3c158"
      },
      "outputs": [
        {
          "output_type": "stream",
          "name": "stdout",
          "text": [
            "length 143\n",
            "default ptm: 0.662 plddt: 76.7\n",
            "default Minimum distance between chains A and B: 19.65 Å\n",
            "default ptm: 0.659 plddt: 75.6\n",
            "default Minimum distance between chains A and B: 8.99 Å\n",
            "default ptm: 0.670 plddt: 75.8\n",
            "default Minimum distance between chains A and B: 5.33 Å\n",
            "CPU times: user 25.7 s, sys: 178 ms, total: 25.9 s\n",
            "Wall time: 26 s\n",
            "Parser   : 239 ms\n"
          ]
        }
      ],
      "source": [
        "#@title ##run **ESMFold**\n",
        "%%time\n",
        "from string import ascii_uppercase, ascii_lowercase\n",
        "import hashlib, re, os\n",
        "import numpy as np\n",
        "from jax.tree_util import tree_map\n",
        "import matplotlib.pyplot as plt\n",
        "from scipy.special import softmax\n",
        "import time\n",
        "\n",
        "def calculate_min_distance(xyz_a, xyz_b):\n",
        "    distances = np.linalg.norm(xyz_a[:, np.newaxis] - xyz_b[np.newaxis, :], axis=-1)\n",
        "    return np.min(distances)\n",
        "\n",
        "def parse_output(output):\n",
        "  pae = (output[\"aligned_confidence_probs\"][0] * np.arange(64)).mean(-1) * 31\n",
        "  plddt = output[\"plddt\"][0,:,1]\n",
        "\n",
        "  bins = np.append(0,np.linspace(2.3125,21.6875,63))\n",
        "  sm_contacts = softmax(output[\"distogram_logits\"],-1)[0]\n",
        "  sm_contacts = sm_contacts[...,bins<8].sum(-1)\n",
        "  xyz = output[\"positions\"][-1,0,:,1]\n",
        "  mask = output[\"atom37_atom_exists\"][0,:,1] == 1\n",
        "  o = {\"pae\":pae[mask,:][:,mask],\n",
        "       \"plddt\":plddt[mask],\n",
        "       \"sm_contacts\":sm_contacts[mask,:][:,mask],\n",
        "       \"xyz\":xyz[mask]}\n",
        "  if \"contacts\" in output[\"lm_output\"]:\n",
        "    lm_contacts = output[\"lm_output\"][\"contacts\"].astype(float)[0]\n",
        "    o[\"lm_contacts\"] = lm_contacts[mask,:][:,mask]\n",
        "  return o\n",
        "\n",
        "def get_hash(x): return hashlib.sha1(x.encode()).hexdigest()\n",
        "alphabet_list = list(ascii_uppercase+ascii_lowercase)\n",
        "\n",
        "jobname = ['6iqj'] #@param {type:\"raw\"}\n",
        "\n",
        "sequence = ['MSWQSYVDDHLMCEVEGNHLTHAAIFGQDGSVWAQSSAFPQLKPAEIAGINKDFEEAGHLAPTGLFLGGEKYMVVQGEAGAVIRGKKGPGGVTIKKTTQALVFGIYDEPMTGGQCNLVVERLGDYLIESGL/VPPPPPPPPPLP'] #@param {type:\"raw\"}\n",
        "\n",
        "for this_jobname, this_sequence in zip(jobname, sequence):\n",
        "  this_sequence = re.sub(\"[^A-Z:]\", \"\", this_sequence.replace(\"/\",\":\").upper())\n",
        "  this_sequence = re.sub(\":+\",\":\",this_sequence)\n",
        "  this_sequence = re.sub(\"^[:]+\",\"\",this_sequence)\n",
        "  this_sequence = re.sub(\"[:]+$\",\"\",this_sequence)\n",
        "\n",
        "  #@markdown ---\n",
        "  #@markdown ###**Advanced Options**\n",
        "  initial_recycles = 3 #@param [\"0\", \"1\", \"2\", \"3\", \"6\", \"12\"] {type:\"raw\"}\n",
        "  min_distance_threshold = 8.0\n",
        "  min_distance = float('inf')\n",
        "  get_LM_contacts = False\n",
        "\n",
        "  #@markdown **multimer options (experimental)**\n",
        "  #@markdown - use \"/\" to specify chainbreaks, (eg. sequence=\"AAA/AAA\")\n",
        "  #@markdown - for homo-oligomeric predictions, set copies > 1\n",
        "\n",
        "  copies = 1 #@param {type:\"integer\"}\n",
        "  chain_linker = 30 #@param {type:\"number\"}\n",
        "  if copies == \"\" or copies <= 0: copies = 1\n",
        "  this_sequence = \":\".join([this_sequence] * copies)\n",
        "\n",
        "  ID = this_jobname+\"_\"+get_hash(this_sequence)[:5]\n",
        "  seqs = this_sequence.split(\":\")\n",
        "  lengths = [len(s) for s in seqs]\n",
        "  length = sum(lengths)\n",
        "  print(\"length\",length)\n",
        "\n",
        "  u_seqs = list(set(seqs))\n",
        "  if len(seqs) == 1: mode = \"mono\"\n",
        "  elif len(u_seqs) == 1: mode = \"homo\"\n",
        "  else: mode = \"hetero\"\n",
        "\n",
        "  if \"model\" not in dir():\n",
        "    import torch\n",
        "    model = torch.load(\"esmfold.model\")\n",
        "    model.cuda().requires_grad_(False)\n",
        "\n",
        "  # optimized for Tesla T4\n",
        "  if length > 700:\n",
        "    model.trunk.set_chunk_size(64)\n",
        "  else:\n",
        "    model.trunk.set_chunk_size(128)\n",
        "\n",
        "  best_pdb_str = None\n",
        "  best_ptm = 0\n",
        "  best_output = None\n",
        "  traj = []\n",
        "\n",
        "  initial_seed = int(time.time()) % (2**32 - 1)\n",
        "  torch.manual_seed(initial_seed)\n",
        "\n",
        "  torch.cuda.empty_cache()\n",
        "\n",
        "  seed = \"default\"\n",
        "  mask_rate = 0.0\n",
        "  model.train(False)\n",
        "\n",
        "  num_recycles = initial_recycles\n",
        "  while True:\n",
        "    output = model.infer(this_sequence,\n",
        "                        num_recycles=num_recycles,\n",
        "                        chain_linker=\"X\"*chain_linker,\n",
        "                        residue_index_offset=512,\n",
        "                        mask_rate=mask_rate,\n",
        "                        return_contacts=get_LM_contacts)\n",
        "\n",
        "    pdb_str = model.output_to_pdb(output)[0]\n",
        "    output = tree_map(lambda x: x.cpu().numpy(), output)\n",
        "    ptm = output[\"ptm\"][0]\n",
        "    plddt = output[\"plddt\"][0,:,1].mean()\n",
        "    traj.append(parse_output(output))\n",
        "    print(f'{seed} ptm: {ptm:.3f} plddt: {plddt:.1f}')\n",
        "    if ptm > best_ptm:\n",
        "      best_pdb_str = pdb_str\n",
        "      best_ptm = ptm\n",
        "      best_output = output\n",
        "    os.system(f\"mkdir -p {ID}\")\n",
        "\n",
        "    pdb_filename = f\"{ID}/ptm{ptm:.3f}_r{num_recycles}_{seed}.pdb\"\n",
        "\n",
        "    with open(pdb_filename,\"w\") as out:\n",
        "      out.write(pdb_str)\n",
        "\n",
        "    chaina_len=len(output['chain_index'][0])-30-output['chain_index'][0].sum()\n",
        "    chainb_len=output['chain_index'][0].sum()\n",
        "    chaina_xyz=output[\"positions\"][-1,0,:,1][:chaina_len]\n",
        "    chainb_xyz=output[\"positions\"][-1,0,:,1][-chainb_len:]\n",
        "    min_distance = calculate_min_distance(chaina_xyz, chainb_xyz)\n",
        "    print(f'{seed} Minimum distance between chains A and B: {min_distance:.2f} Å')\n",
        "\n",
        "    if min_distance < min_distance_threshold or num_recycles >= 12:\n",
        "      break\n",
        "\n",
        "    num_recycles += 1"
      ]
    },
    {
      "cell_type": "markdown",
      "metadata": {
        "id": "DG8BYavBWaFE"
      },
      "source": []
    }
  ],
  "metadata": {
    "accelerator": "GPU",
    "colab": {
      "gpuType": "T4",
      "machine_shape": "hm",
      "provenance": []
    },
    "kernelspec": {
      "display_name": "Python 3",
      "name": "python3"
    },
    "language_info": {
      "name": "python"
    }
  },
  "nbformat": 4,
  "nbformat_minor": 0
}